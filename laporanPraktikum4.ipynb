{
 "cells": [
  {
   "cell_type": "code",
   "execution_count": 4,
   "id": "48afb868",
   "metadata": {},
   "outputs": [
    {
     "name": "stdout",
     "output_type": "stream",
     "text": [
      "Angka tersebut = True\n",
      "Angka tersebut = False\n",
      "Angka tersebut = True\n",
      "Angka tersebut = False\n"
     ]
    }
   ],
   "source": [
    "def cek_angka(a, b, c):\n",
    " \n",
    "    if a != b and b != c and c != a:\n",
    "        return (a + b == c or b + a == c or c + b == a)\n",
    "    else:\n",
    "        return False\n",
    "\n",
    "print(f\"Angka tersebut =\", cek_angka(1, 2, 3))    # True\n",
    "print(f\"Angka tersebut =\", cek_angka(20, 9, 7))   # False\n",
    "print(f\"Angka tersebut =\", cek_angka(4, 3, 1))    # True\n",
    "print(f\"Angka tersebut =\", cek_angka(13, 14, 16)) # False\n",
    "\n",
    "\n",
    "\n"
   ]
  },
  {
   "cell_type": "code",
   "execution_count": 5,
   "id": "163328bc",
   "metadata": {},
   "outputs": [
    {
     "name": "stdout",
     "output_type": "stream",
     "text": [
      "hasilnya = True\n",
      "hasilnya = True\n",
      "hasilnya = False\n",
      "hasilnya = True\n",
      "hasilnya = False\n"
     ]
    }
   ],
   "source": [
    "def cek_digit_belakang(x, y, z):\n",
    "    if x % 10 == y % 10 or y % 10 == z % 10 or z % 10 == x % 10:\n",
    "        return \"True\"\n",
    "    else:\n",
    "        return \"False\"\n",
    "\n",
    "print(f\"hasilnya =\", cek_digit_belakang(10, 20, 30))     # True\n",
    "print(f\"hasilnya =\", cek_digit_belakang(145, 5, 100))    # True\n",
    "print(f\"hasilnya =\", cek_digit_belakang(71, 187, 18))    # False\n",
    "print(f\"hasilnya =\", cek_digit_belakang(1024, 14, 94))   # True\n",
    "print(f\"hasilnya =\", cek_digit_belakang(53, 8900, 658))  # False\n",
    "\n",
    "\n"
   ]
  },
  {
   "cell_type": "code",
   "execution_count": null,
   "id": "3a86e2a6",
   "metadata": {},
   "outputs": [],
   "source": []
  },
  {
   "cell_type": "code",
   "execution_count": 6,
   "id": "c793cb1d",
   "metadata": {},
   "outputs": [
    {
     "name": "stdout",
     "output_type": "stream",
     "text": [
      "input C = 212\n",
      "input C = 64\n",
      "input C = 32\n"
     ]
    }
   ],
   "source": [
    "celcius_ke_fahrenheit = lambda celcius: round((9/5) * celcius + 32)\n",
    "celcius_ke_reamur = lambda celcius: round(0.8 * celcius)\n",
    "\n",
    "\n",
    "print(f\"input C =\", celcius_ke_fahrenheit(100))  # Output: Suhu dalam Fahrenheit setelah konversi dari 100 Celcius\n",
    "print(f\"input C =\", celcius_ke_reamur(80))       # Output: Suhu dalam Reamur setelah konversi dari 80 Celcius\n",
    "print(f\"input C =\", celcius_ke_fahrenheit(0))    # Output: Suhu dalam Fahrenheit setelah konversi dari 0 Celcius\n",
    "\n",
    "\n"
   ]
  },
  {
   "cell_type": "code",
   "execution_count": null,
   "id": "84d329ab",
   "metadata": {},
   "outputs": [],
   "source": []
  }
 ],
 "metadata": {
  "kernelspec": {
   "display_name": "Python 3 (ipykernel)",
   "language": "python",
   "name": "python3"
  },
  "language_info": {
   "codemirror_mode": {
    "name": "ipython",
    "version": 3
   },
   "file_extension": ".py",
   "mimetype": "text/x-python",
   "name": "python",
   "nbconvert_exporter": "python",
   "pygments_lexer": "ipython3",
   "version": "3.11.5"
  }
 },
 "nbformat": 4,
 "nbformat_minor": 5
}
